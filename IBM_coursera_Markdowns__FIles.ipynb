{
  "nbformat": 4,
  "nbformat_minor": 0,
  "metadata": {
    "colab": {
      "provenance": [],
      "authorship_tag": "ABX9TyPemcM6aBKEyngDblKkzPyY",
      "include_colab_link": true
    },
    "kernelspec": {
      "name": "python3",
      "display_name": "Python 3"
    },
    "language_info": {
      "name": "python"
    }
  },
  "cells": [
    {
      "cell_type": "markdown",
      "metadata": {
        "id": "view-in-github",
        "colab_type": "text"
      },
      "source": [
        "<a href=\"https://colab.research.google.com/github/Rerzd/Training/blob/main/IBM_coursera_Markdowns__FIles.ipynb\" target=\"_parent\"><img src=\"https://colab.research.google.com/assets/colab-badge.svg\" alt=\"Open In Colab\"/></a>"
      ]
    },
    {
      "cell_type": "code",
      "source": [
        "import numpy as np\n",
        "import matplotlib.pyplot as plt"
      ],
      "metadata": {
        "id": "Yt4yxEGz_vNk"
      },
      "execution_count": null,
      "outputs": []
    },
    {
      "cell_type": "code",
      "execution_count": null,
      "metadata": {
        "colab": {
          "base_uri": "https://localhost:8080/"
        },
        "id": "qhMXYWkY_U0t",
        "outputId": "5faecd9b-a91b-43a8-c6f4-cf2d6839d4ff"
      },
      "outputs": [
        {
          "output_type": "stream",
          "name": "stdout",
          "text": [
            "hello world\n"
          ]
        }
      ],
      "source": [
        "print(\"hello world\")"
      ]
    },
    {
      "cell_type": "markdown",
      "source": [
        "#Markdowns\n",
        "\n",
        "\n",
        "\n",
        "\n"
      ],
      "metadata": {
        "id": "Gp3eb6BCDGkF"
      }
    },
    {
      "cell_type": "markdown",
      "source": [
        "## Textos\n",
        "\n",
        "Estas son las bases de crear textos\n",
        "\n",
        "Existen 6 niveles de tamaños diferentes usando el numeral\n",
        "\n",
        "# Hello\n",
        "## Hello\n",
        "### Hello\n",
        "#### Hello\n",
        "##### Hello\n",
        "###### Hello\n",
        "\n",
        "Además, si vas a usar negrilla es con **doble asterisco antes de la frase y después. Deben estar pegados**"
      ],
      "metadata": {
        "id": "nmuARhtRNTcf"
      }
    },
    {
      "cell_type": "markdown",
      "source": [
        "Para insertar un Hiperlink en el Markdown, debes primero asignar el nombre del link entre corchetes y luego en parentesis pones el link\n",
        "\n",
        "[Página de IBM](https://skills.network/)"
      ],
      "metadata": {
        "id": "2zIf43g5EJ-G"
      }
    },
    {
      "cell_type": "markdown",
      "source": [
        "Para poder insertar imágenes, debes tener este formato\n",
        "\n",
        "Nombre de la imagen: ![Texto alt](Path de la imágen)\n",
        "\n",
        "LOGO: ![This is the skills network logo](https://cf-courses-data.s3.us.cloud-object-storage.appdomain.cloud/assets/logos/SN_web_lightmode.png)"
      ],
      "metadata": {
        "id": "a5gsE82gEjRo"
      }
    },
    {
      "cell_type": "markdown",
      "source": [
        "Ejemplo ![Este es un ej](https://cdn-images.dzcdn.net/images/cover/5035a736541117065e2d2388d1ca75c6/0x1900-000000-80-0-0.jpg)\n",
        "\n"
      ],
      "metadata": {
        "id": "gG38XemoFc81"
      }
    },
    {
      "cell_type": "markdown",
      "source": [
        "Para crear tablas en el markdown debes usar rayitas verticales \"----\" u horizontales \"|||||\" para separar cada columna\n",
        "\n",
        "| Country Name | Capital |\n",
        "| -------------| ------ |\n",
        "| United States | Washington DC |\n",
        "| Australia | Canberra |\n",
        "| India | New Delhi |"
      ],
      "metadata": {
        "id": "w43uLcFSFSt2"
      }
    },
    {
      "cell_type": "markdown",
      "source": [
        "Para crear una lista usas puedes usar \"-\" , \"*\" , \"+\"\n",
        "\n",
        "- Primer item\n",
        "+ Segundo item\n",
        "* Tercer item\n",
        "\n",
        "Una lista ordenada solo consiste en poner el número y un punto\n",
        "\n",
        "1. primer item\n",
        "2. segundo item\n",
        "3. tercer item"
      ],
      "metadata": {
        "id": "52rOmcFMHcrQ"
      }
    },
    {
      "cell_type": "code",
      "source": [
        "#Ahora va una lista de ejercicios"
      ],
      "metadata": {
        "id": "a0qNGH6TIxQh"
      },
      "execution_count": null,
      "outputs": []
    },
    {
      "cell_type": "markdown",
      "source": [
        "## Welcome to python programming\n",
        ": ![Imagen](https://cf-courses-data.s3.us.cloud-object-storage.appdomain.cloud/IBMDeveloperSkillsNetwork-DS0105EN-SkillsNetwork/labs/Labs_V4/images/Launcher.png)"
      ],
      "metadata": {
        "id": "B9Jo-JhCIHqQ"
      }
    },
    {
      "cell_type": "markdown",
      "source": [
        "## Hyperlink\n",
        "\n",
        "[Coursera](https://www.coursera.org/learn/open-source-tools-for-data-science/home/welcome)"
      ],
      "metadata": {
        "id": "2RTxbm36I0Og"
      }
    },
    {
      "cell_type": "markdown",
      "source": [
        "| Fruits | Quantity(Kg) | Precio |\n",
        "|--------|--------------|--------|\n",
        "| Manzana | 2 | 500 |\n",
        "| Orange | 1 | 200 |\n",
        "| Mango | 2 | 1000 |\n",
        "| Grapes | 3 | 400 |\n"
      ],
      "metadata": {
        "id": "TjKrqbJOJIkq"
      }
    },
    {
      "cell_type": "markdown",
      "source": [
        "## Lista ordenada\n",
        "\n",
        "1. Python\n",
        "2. Java\n",
        "3. C++\n",
        "4. C"
      ],
      "metadata": {
        "id": "KL834xk-LbEn"
      }
    },
    {
      "cell_type": "markdown",
      "source": [
        "Si vuelves a esta página. Posiblemente no estas en el curso, por lo qeu si quieres saber mas chetos de markdown, puedes entrar a\n",
        "[Este github](https://github.com/adam-p/markdown-here/wiki/Markdown-Cheatsheet_)"
      ],
      "metadata": {
        "id": "rcuxWyKcLqww"
      }
    },
    {
      "cell_type": "markdown",
      "source": [
        "## Github\n",
        "\n",
        "En general todo esto son conceptos que no son la que cosa pero sirve mucho para dar buena presentación a un jupyter. Así que por eso mismo lo guardaré en mi github\n",
        "\n",
        "**Besos**\n",
        "\n",
        "**Rerzd**: ![Katzen](https://avatars.githubusercontent.com/u/215344128?v=4)"
      ],
      "metadata": {
        "id": "_lbjSnciFZW1"
      }
    },
    {
      "cell_type": "markdown",
      "source": [
        "# Files\n",
        "\n",
        "**Aviso**: PLena aqui no hay nada para ver, el resto eran funciones prinicpales de jupyter pero aja, x. Lo de arriba es lo que más sirve"
      ],
      "metadata": {
        "id": "LLXjQ55MNDw_"
      }
    },
    {
      "cell_type": "code",
      "source": [
        "# Recuerda que puedes ejecutar todas las lineas de código usando al función Run all cells\n",
        "#Ejemplo\n",
        "11+4"
      ],
      "metadata": {
        "colab": {
          "base_uri": "https://localhost:8080/"
        },
        "id": "Q_e7TRCkNkG3",
        "outputId": "076c2765-ace8-4dfe-c48b-9232678073bc"
      },
      "execution_count": null,
      "outputs": [
        {
          "output_type": "execute_result",
          "data": {
            "text/plain": [
              "15"
            ]
          },
          "metadata": {},
          "execution_count": 8
        }
      ]
    },
    {
      "cell_type": "code",
      "source": [
        "150 * 50"
      ],
      "metadata": {
        "colab": {
          "base_uri": "https://localhost:8080/"
        },
        "id": "pSHe4KY5OQg8",
        "outputId": "6c2e58ba-da4b-4791-bad7-96c9c569046b"
      },
      "execution_count": null,
      "outputs": [
        {
          "output_type": "execute_result",
          "data": {
            "text/plain": [
              "7500"
            ]
          },
          "metadata": {},
          "execution_count": 9
        }
      ]
    }
  ]
}