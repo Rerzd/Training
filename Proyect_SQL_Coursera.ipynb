{
  "nbformat": 4,
  "nbformat_minor": 0,
  "metadata": {
    "colab": {
      "provenance": [],
      "authorship_tag": "ABX9TyMe5x4nWCpWIqR9/4lBh60T",
      "include_colab_link": true
    },
    "kernelspec": {
      "name": "python3",
      "display_name": "Python 3"
    },
    "language_info": {
      "name": "python"
    }
  },
  "cells": [
    {
      "cell_type": "markdown",
      "metadata": {
        "id": "view-in-github",
        "colab_type": "text"
      },
      "source": [
        "<a href=\"https://colab.research.google.com/github/Rerzd/Training/blob/main/Proyect_SQL_Coursera.ipynb\" target=\"_parent\"><img src=\"https://colab.research.google.com/assets/colab-badge.svg\" alt=\"Open In Colab\"/></a>"
      ]
    },
    {
      "cell_type": "markdown",
      "source": [
        "##Chicago Datasets:\n",
        "\n",
        "The following excercise consists on analyzing several datasets from chicago. list of the datasets are\n",
        "\n",
        "1. Socioeconomic indicator\n",
        "\n",
        "2. Chicago Public Schools\n",
        "\n",
        "3. Chicago crime data"
      ],
      "metadata": {
        "id": "OKBCj1u2QUQq"
      }
    },
    {
      "cell_type": "code",
      "source": [
        "#Let's start by importing the required libraries\n",
        "\n",
        "!pip install pandas\n",
        "!pip install ipython-sql prettytable\n",
        "import pandas as pd\n",
        "import prettytable as pt\n",
        "\n",
        "pt.DEFAULT = 'DEFAULT'"
      ],
      "metadata": {
        "colab": {
          "base_uri": "https://localhost:8080/"
        },
        "id": "OZ86i_z9QUBq",
        "outputId": "6408190c-e512-40ad-8570-1a433d76617c"
      },
      "execution_count": 5,
      "outputs": [
        {
          "output_type": "stream",
          "name": "stdout",
          "text": [
            "Requirement already satisfied: pandas in /usr/local/lib/python3.11/dist-packages (2.2.2)\n",
            "Requirement already satisfied: numpy>=1.23.2 in /usr/local/lib/python3.11/dist-packages (from pandas) (2.0.2)\n",
            "Requirement already satisfied: python-dateutil>=2.8.2 in /usr/local/lib/python3.11/dist-packages (from pandas) (2.9.0.post0)\n",
            "Requirement already satisfied: pytz>=2020.1 in /usr/local/lib/python3.11/dist-packages (from pandas) (2025.2)\n",
            "Requirement already satisfied: tzdata>=2022.7 in /usr/local/lib/python3.11/dist-packages (from pandas) (2025.2)\n",
            "Requirement already satisfied: six>=1.5 in /usr/local/lib/python3.11/dist-packages (from python-dateutil>=2.8.2->pandas) (1.17.0)\n",
            "Requirement already satisfied: ipython-sql in /usr/local/lib/python3.11/dist-packages (0.5.0)\n",
            "Requirement already satisfied: prettytable in /usr/local/lib/python3.11/dist-packages (3.16.0)\n",
            "Requirement already satisfied: ipython in /usr/local/lib/python3.11/dist-packages (from ipython-sql) (7.34.0)\n",
            "Requirement already satisfied: sqlalchemy>=2.0 in /usr/local/lib/python3.11/dist-packages (from ipython-sql) (2.0.41)\n",
            "Requirement already satisfied: sqlparse in /usr/local/lib/python3.11/dist-packages (from ipython-sql) (0.5.3)\n",
            "Requirement already satisfied: six in /usr/local/lib/python3.11/dist-packages (from ipython-sql) (1.17.0)\n",
            "Requirement already satisfied: ipython-genutils in /usr/local/lib/python3.11/dist-packages (from ipython-sql) (0.2.0)\n",
            "Requirement already satisfied: wcwidth in /usr/local/lib/python3.11/dist-packages (from prettytable) (0.2.13)\n",
            "Requirement already satisfied: greenlet>=1 in /usr/local/lib/python3.11/dist-packages (from sqlalchemy>=2.0->ipython-sql) (3.2.3)\n",
            "Requirement already satisfied: typing-extensions>=4.6.0 in /usr/local/lib/python3.11/dist-packages (from sqlalchemy>=2.0->ipython-sql) (4.14.1)\n",
            "Requirement already satisfied: setuptools>=18.5 in /usr/local/lib/python3.11/dist-packages (from ipython->ipython-sql) (75.2.0)\n",
            "Requirement already satisfied: jedi>=0.16 in /usr/local/lib/python3.11/dist-packages (from ipython->ipython-sql) (0.19.2)\n",
            "Requirement already satisfied: decorator in /usr/local/lib/python3.11/dist-packages (from ipython->ipython-sql) (4.4.2)\n",
            "Requirement already satisfied: pickleshare in /usr/local/lib/python3.11/dist-packages (from ipython->ipython-sql) (0.7.5)\n",
            "Requirement already satisfied: traitlets>=4.2 in /usr/local/lib/python3.11/dist-packages (from ipython->ipython-sql) (5.7.1)\n",
            "Requirement already satisfied: prompt-toolkit!=3.0.0,!=3.0.1,<3.1.0,>=2.0.0 in /usr/local/lib/python3.11/dist-packages (from ipython->ipython-sql) (3.0.51)\n",
            "Requirement already satisfied: pygments in /usr/local/lib/python3.11/dist-packages (from ipython->ipython-sql) (2.19.2)\n",
            "Requirement already satisfied: backcall in /usr/local/lib/python3.11/dist-packages (from ipython->ipython-sql) (0.2.0)\n",
            "Requirement already satisfied: matplotlib-inline in /usr/local/lib/python3.11/dist-packages (from ipython->ipython-sql) (0.1.7)\n",
            "Requirement already satisfied: pexpect>4.3 in /usr/local/lib/python3.11/dist-packages (from ipython->ipython-sql) (4.9.0)\n",
            "Requirement already satisfied: parso<0.9.0,>=0.8.4 in /usr/local/lib/python3.11/dist-packages (from jedi>=0.16->ipython->ipython-sql) (0.8.4)\n",
            "Requirement already satisfied: ptyprocess>=0.5 in /usr/local/lib/python3.11/dist-packages (from pexpect>4.3->ipython->ipython-sql) (0.7.0)\n"
          ]
        }
      ]
    },
    {
      "cell_type": "code",
      "execution_count": 6,
      "metadata": {
        "id": "dXAxjXwVPzMO"
      },
      "outputs": [],
      "source": [
        "import pandas as pd\n",
        "import sqlite3\n",
        "import csv\n",
        "\n",
        "con = sqlite3.connect(\"FinalDB.db\")\n",
        "cur = con.cursor()"
      ]
    },
    {
      "cell_type": "code",
      "source": [
        "!pip install ipython-sql\n",
        "%load_ext sql"
      ],
      "metadata": {
        "colab": {
          "base_uri": "https://localhost:8080/"
        },
        "id": "YC1Gv0zATUOY",
        "outputId": "6947e204-ad66-4858-9037-554a5a6e2563"
      },
      "execution_count": 7,
      "outputs": [
        {
          "output_type": "stream",
          "name": "stdout",
          "text": [
            "Requirement already satisfied: ipython-sql in /usr/local/lib/python3.11/dist-packages (0.5.0)\n",
            "Requirement already satisfied: prettytable in /usr/local/lib/python3.11/dist-packages (from ipython-sql) (3.16.0)\n",
            "Requirement already satisfied: ipython in /usr/local/lib/python3.11/dist-packages (from ipython-sql) (7.34.0)\n",
            "Requirement already satisfied: sqlalchemy>=2.0 in /usr/local/lib/python3.11/dist-packages (from ipython-sql) (2.0.41)\n",
            "Requirement already satisfied: sqlparse in /usr/local/lib/python3.11/dist-packages (from ipython-sql) (0.5.3)\n",
            "Requirement already satisfied: six in /usr/local/lib/python3.11/dist-packages (from ipython-sql) (1.17.0)\n",
            "Requirement already satisfied: ipython-genutils in /usr/local/lib/python3.11/dist-packages (from ipython-sql) (0.2.0)\n",
            "Requirement already satisfied: greenlet>=1 in /usr/local/lib/python3.11/dist-packages (from sqlalchemy>=2.0->ipython-sql) (3.2.3)\n",
            "Requirement already satisfied: typing-extensions>=4.6.0 in /usr/local/lib/python3.11/dist-packages (from sqlalchemy>=2.0->ipython-sql) (4.14.1)\n",
            "Requirement already satisfied: setuptools>=18.5 in /usr/local/lib/python3.11/dist-packages (from ipython->ipython-sql) (75.2.0)\n",
            "Requirement already satisfied: jedi>=0.16 in /usr/local/lib/python3.11/dist-packages (from ipython->ipython-sql) (0.19.2)\n",
            "Requirement already satisfied: decorator in /usr/local/lib/python3.11/dist-packages (from ipython->ipython-sql) (4.4.2)\n",
            "Requirement already satisfied: pickleshare in /usr/local/lib/python3.11/dist-packages (from ipython->ipython-sql) (0.7.5)\n",
            "Requirement already satisfied: traitlets>=4.2 in /usr/local/lib/python3.11/dist-packages (from ipython->ipython-sql) (5.7.1)\n",
            "Requirement already satisfied: prompt-toolkit!=3.0.0,!=3.0.1,<3.1.0,>=2.0.0 in /usr/local/lib/python3.11/dist-packages (from ipython->ipython-sql) (3.0.51)\n",
            "Requirement already satisfied: pygments in /usr/local/lib/python3.11/dist-packages (from ipython->ipython-sql) (2.19.2)\n",
            "Requirement already satisfied: backcall in /usr/local/lib/python3.11/dist-packages (from ipython->ipython-sql) (0.2.0)\n",
            "Requirement already satisfied: matplotlib-inline in /usr/local/lib/python3.11/dist-packages (from ipython->ipython-sql) (0.1.7)\n",
            "Requirement already satisfied: pexpect>4.3 in /usr/local/lib/python3.11/dist-packages (from ipython->ipython-sql) (4.9.0)\n",
            "Requirement already satisfied: wcwidth in /usr/local/lib/python3.11/dist-packages (from prettytable->ipython-sql) (0.2.13)\n",
            "Requirement already satisfied: parso<0.9.0,>=0.8.4 in /usr/local/lib/python3.11/dist-packages (from jedi>=0.16->ipython->ipython-sql) (0.8.4)\n",
            "Requirement already satisfied: ptyprocess>=0.5 in /usr/local/lib/python3.11/dist-packages (from pexpect>4.3->ipython->ipython-sql) (0.7.0)\n",
            "The sql extension is already loaded. To reload it, use:\n",
            "  %reload_ext sql\n"
          ]
        }
      ]
    },
    {
      "cell_type": "code",
      "source": [
        "%sql sqlite:///FinalDB.db"
      ],
      "metadata": {
        "id": "02NbpgLqTfTJ"
      },
      "execution_count": 8,
      "outputs": []
    },
    {
      "cell_type": "code",
      "source": [
        "df = pd.read_csv(\"https://cf-courses-data.s3.us.cloud-object-storage.appdomain.cloud/IBMDeveloperSkillsNetwork-DB0201EN-SkillsNetwork/labs/FinalModule_Coursera_V5/data/ChicagoCensusData.csv?utm_medium=Exinfluencer&utm_source=Exinfluencer&utm_content=000026UJ&utm_term=10006555&utm_id=NA-SkillsNetwork-Channel-SkillsNetworkCoursesIBMDeveloperSkillsNetworkDB0201ENSkillsNetwork20127838-2021-01-01\")\n",
        "df.to_sql(\"CENSUS_DATA\", con, if_exists='replace', index=False,method=\"multi\")\n"
      ],
      "metadata": {
        "colab": {
          "base_uri": "https://localhost:8080/"
        },
        "id": "XdLcYprvwFuC",
        "outputId": "02c51adf-fdec-44b5-f218-62617be2418b"
      },
      "execution_count": 43,
      "outputs": [
        {
          "output_type": "execute_result",
          "data": {
            "text/plain": [
              "78"
            ]
          },
          "metadata": {},
          "execution_count": 43
        }
      ]
    },
    {
      "cell_type": "code",
      "source": [
        "df = pd.read_csv(\"https://cf-courses-data.s3.us.cloud-object-storage.appdomain.cloud/IBMDeveloperSkillsNetwork-DB0201EN-SkillsNetwork/labs/FinalModule_Coursera_V5/data/ChicagoPublicSchools.csv?utm_medium=Exinfluencer&utm_source=Exinfluencer&utm_content=000026UJ&utm_term=10006555&utm_id=NA-SkillsNetwork-Channel-SkillsNetworkCoursesIBMDeveloperSkillsNetworkDB0201ENSkillsNetwork20127838-2021-01-01\")\n",
        "df.to_sql(\"CHICAGO_PUBLIC_SCHOOLS\", con, if_exists ='replace', index=False, method=\"multi\")"
      ],
      "metadata": {
        "colab": {
          "base_uri": "https://localhost:8080/"
        },
        "id": "4c4LfFC5xicO",
        "outputId": "6271553f-20b8-4e84-fd06-c24b93343c4c"
      },
      "execution_count": 44,
      "outputs": [
        {
          "output_type": "execute_result",
          "data": {
            "text/plain": [
              "566"
            ]
          },
          "metadata": {},
          "execution_count": 44
        }
      ]
    },
    {
      "cell_type": "code",
      "source": [
        "df = pd.read_csv(\"https://cf-courses-data.s3.us.cloud-object-storage.appdomain.cloud/IBMDeveloperSkillsNetwork-DB0201EN-SkillsNetwork/labs/FinalModule_Coursera_V5/data/ChicagoCrimeData.csv?utm_medium=Exinfluencer&utm_source=Exinfluencer&utm_content=000026UJ&utm_term=10006555&utm_id=NA-SkillsNetwork-Channel-SkillsNetworkCoursesIBMDeveloperSkillsNetworkDB0201ENSkillsNetwork20127838-2021-01-01\")\n",
        "df.to_sql(\"CHICAGO_CRIME_DATA\", con, if_exists='replace', index=False, method=\"multi\")"
      ],
      "metadata": {
        "colab": {
          "base_uri": "https://localhost:8080/"
        },
        "id": "5XoeDyM8xy57",
        "outputId": "cfda7a8c-bd28-400d-eaa1-33a49898d698"
      },
      "execution_count": 45,
      "outputs": [
        {
          "output_type": "execute_result",
          "data": {
            "text/plain": [
              "533"
            ]
          },
          "metadata": {},
          "execution_count": 45
        }
      ]
    },
    {
      "cell_type": "code",
      "source": [
        "%sql SELECT name FROM sqlite_master WHERE type='table';"
      ],
      "metadata": {
        "colab": {
          "base_uri": "https://localhost:8080/",
          "height": 135
        },
        "id": "WpHbiClnyCIo",
        "outputId": "2d65c251-6f00-4d45-d7e8-d444090f43f2"
      },
      "execution_count": 46,
      "outputs": [
        {
          "output_type": "stream",
          "name": "stdout",
          "text": [
            " * sqlite:///FinalDB.db\n",
            "Done.\n"
          ]
        },
        {
          "output_type": "execute_result",
          "data": {
            "text/plain": [
              "[('CENSUS_DATA',), ('CHICAGO_PUBLIC_SCHOOLS',), ('CHICAGO_CRIME_DATA',)]"
            ],
            "text/html": [
              "<table>\n",
              "    <thead>\n",
              "        <tr>\n",
              "            <th>name</th>\n",
              "        </tr>\n",
              "    </thead>\n",
              "    <tbody>\n",
              "        <tr>\n",
              "            <td>CENSUS_DATA</td>\n",
              "        </tr>\n",
              "        <tr>\n",
              "            <td>CHICAGO_PUBLIC_SCHOOLS</td>\n",
              "        </tr>\n",
              "        <tr>\n",
              "            <td>CHICAGO_CRIME_DATA</td>\n",
              "        </tr>\n",
              "    </tbody>\n",
              "</table>"
            ]
          },
          "metadata": {},
          "execution_count": 46
        }
      ]
    },
    {
      "cell_type": "code",
      "source": [
        "#Lets take a look to each dataset we have. First is CRIME\n",
        "\n",
        "%%sql\n",
        "\n",
        "SELECT name,type,length(type) FROM PRAGMA_TABLE_INFO('CHICAGO_CRIME_DATA');"
      ],
      "metadata": {
        "colab": {
          "base_uri": "https://localhost:8080/",
          "height": 505
        },
        "id": "oG0anx_ZynGA",
        "outputId": "52f228f8-272a-410f-a81c-e185ccba6cd8"
      },
      "execution_count": 47,
      "outputs": [
        {
          "output_type": "stream",
          "name": "stdout",
          "text": [
            " * sqlite:///FinalDB.db\n",
            "Done.\n"
          ]
        },
        {
          "output_type": "execute_result",
          "data": {
            "text/plain": [
              "[('ID', 'INTEGER', 7),\n",
              " ('CASE_NUMBER', 'TEXT', 4),\n",
              " ('DATE', 'TEXT', 4),\n",
              " ('BLOCK', 'TEXT', 4),\n",
              " ('IUCR', 'TEXT', 4),\n",
              " ('PRIMARY_TYPE', 'TEXT', 4),\n",
              " ('DESCRIPTION', 'TEXT', 4),\n",
              " ('LOCATION_DESCRIPTION', 'TEXT', 4),\n",
              " ('ARREST', 'INTEGER', 7),\n",
              " ('DOMESTIC', 'INTEGER', 7),\n",
              " ('BEAT', 'INTEGER', 7),\n",
              " ('DISTRICT', 'INTEGER', 7),\n",
              " ('WARD', 'REAL', 4),\n",
              " ('COMMUNITY_AREA_NUMBER', 'REAL', 4),\n",
              " ('FBICODE', 'TEXT', 4),\n",
              " ('X_COORDINATE', 'REAL', 4),\n",
              " ('Y_COORDINATE', 'REAL', 4),\n",
              " ('YEAR', 'INTEGER', 7),\n",
              " ('LATITUDE', 'REAL', 4),\n",
              " ('LONGITUDE', 'REAL', 4),\n",
              " ('LOCATION', 'TEXT', 4)]"
            ],
            "text/html": [
              "<table>\n",
              "    <thead>\n",
              "        <tr>\n",
              "            <th>name</th>\n",
              "            <th>type</th>\n",
              "            <th>length(type)</th>\n",
              "        </tr>\n",
              "    </thead>\n",
              "    <tbody>\n",
              "        <tr>\n",
              "            <td>ID</td>\n",
              "            <td>INTEGER</td>\n",
              "            <td>7</td>\n",
              "        </tr>\n",
              "        <tr>\n",
              "            <td>CASE_NUMBER</td>\n",
              "            <td>TEXT</td>\n",
              "            <td>4</td>\n",
              "        </tr>\n",
              "        <tr>\n",
              "            <td>DATE</td>\n",
              "            <td>TEXT</td>\n",
              "            <td>4</td>\n",
              "        </tr>\n",
              "        <tr>\n",
              "            <td>BLOCK</td>\n",
              "            <td>TEXT</td>\n",
              "            <td>4</td>\n",
              "        </tr>\n",
              "        <tr>\n",
              "            <td>IUCR</td>\n",
              "            <td>TEXT</td>\n",
              "            <td>4</td>\n",
              "        </tr>\n",
              "        <tr>\n",
              "            <td>PRIMARY_TYPE</td>\n",
              "            <td>TEXT</td>\n",
              "            <td>4</td>\n",
              "        </tr>\n",
              "        <tr>\n",
              "            <td>DESCRIPTION</td>\n",
              "            <td>TEXT</td>\n",
              "            <td>4</td>\n",
              "        </tr>\n",
              "        <tr>\n",
              "            <td>LOCATION_DESCRIPTION</td>\n",
              "            <td>TEXT</td>\n",
              "            <td>4</td>\n",
              "        </tr>\n",
              "        <tr>\n",
              "            <td>ARREST</td>\n",
              "            <td>INTEGER</td>\n",
              "            <td>7</td>\n",
              "        </tr>\n",
              "        <tr>\n",
              "            <td>DOMESTIC</td>\n",
              "            <td>INTEGER</td>\n",
              "            <td>7</td>\n",
              "        </tr>\n",
              "        <tr>\n",
              "            <td>BEAT</td>\n",
              "            <td>INTEGER</td>\n",
              "            <td>7</td>\n",
              "        </tr>\n",
              "        <tr>\n",
              "            <td>DISTRICT</td>\n",
              "            <td>INTEGER</td>\n",
              "            <td>7</td>\n",
              "        </tr>\n",
              "        <tr>\n",
              "            <td>WARD</td>\n",
              "            <td>REAL</td>\n",
              "            <td>4</td>\n",
              "        </tr>\n",
              "        <tr>\n",
              "            <td>COMMUNITY_AREA_NUMBER</td>\n",
              "            <td>REAL</td>\n",
              "            <td>4</td>\n",
              "        </tr>\n",
              "        <tr>\n",
              "            <td>FBICODE</td>\n",
              "            <td>TEXT</td>\n",
              "            <td>4</td>\n",
              "        </tr>\n",
              "        <tr>\n",
              "            <td>X_COORDINATE</td>\n",
              "            <td>REAL</td>\n",
              "            <td>4</td>\n",
              "        </tr>\n",
              "        <tr>\n",
              "            <td>Y_COORDINATE</td>\n",
              "            <td>REAL</td>\n",
              "            <td>4</td>\n",
              "        </tr>\n",
              "        <tr>\n",
              "            <td>YEAR</td>\n",
              "            <td>INTEGER</td>\n",
              "            <td>7</td>\n",
              "        </tr>\n",
              "        <tr>\n",
              "            <td>LATITUDE</td>\n",
              "            <td>REAL</td>\n",
              "            <td>4</td>\n",
              "        </tr>\n",
              "        <tr>\n",
              "            <td>LONGITUDE</td>\n",
              "            <td>REAL</td>\n",
              "            <td>4</td>\n",
              "        </tr>\n",
              "        <tr>\n",
              "            <td>LOCATION</td>\n",
              "            <td>TEXT</td>\n",
              "            <td>4</td>\n",
              "        </tr>\n",
              "    </tbody>\n",
              "</table>"
            ]
          },
          "metadata": {},
          "execution_count": 47
        }
      ]
    },
    {
      "cell_type": "code",
      "source": [
        "# Schools\n",
        "\n",
        "%sql SELECT name,type,length(type) FROM PRAGMA_TABLE_INFO('CHICAGO_PUBLIC_SCHOOLS');"
      ],
      "metadata": {
        "colab": {
          "base_uri": "https://localhost:8080/",
          "height": 1000
        },
        "id": "D2u49ms2zW19",
        "outputId": "40d1ebe4-1aad-47de-d3e9-bec9ee448d78"
      },
      "execution_count": 60,
      "outputs": [
        {
          "output_type": "stream",
          "name": "stdout",
          "text": [
            " * sqlite:///FinalDB.db\n",
            "Done.\n"
          ]
        },
        {
          "output_type": "execute_result",
          "data": {
            "text/plain": [
              "[('School_ID', 'INTEGER', 7),\n",
              " ('NAME_OF_SCHOOL', 'TEXT', 4),\n",
              " ('Elementary, Middle, or High School', 'TEXT', 4),\n",
              " ('Street_Address', 'TEXT', 4),\n",
              " ('City', 'TEXT', 4),\n",
              " ('State', 'TEXT', 4),\n",
              " ('ZIP_Code', 'INTEGER', 7),\n",
              " ('Phone_Number', 'TEXT', 4),\n",
              " ('Link', 'TEXT', 4),\n",
              " ('Network_Manager', 'TEXT', 4),\n",
              " ('Collaborative_Name', 'TEXT', 4),\n",
              " ('Adequate_Yearly_Progress_Made_', 'TEXT', 4),\n",
              " ('Track_Schedule', 'TEXT', 4),\n",
              " ('CPS_Performance_Policy_Status', 'TEXT', 4),\n",
              " ('CPS_Performance_Policy_Level', 'TEXT', 4),\n",
              " ('HEALTHY_SCHOOL_CERTIFIED', 'TEXT', 4),\n",
              " ('Safety_Icon', 'TEXT', 4),\n",
              " ('SAFETY_SCORE', 'REAL', 4),\n",
              " ('Family_Involvement_Icon', 'TEXT', 4),\n",
              " ('Family_Involvement_Score', 'TEXT', 4),\n",
              " ('Environment_Icon', 'TEXT', 4),\n",
              " ('Environment_Score', 'REAL', 4),\n",
              " ('Instruction_Icon', 'TEXT', 4),\n",
              " ('Instruction_Score', 'REAL', 4),\n",
              " ('Leaders_Icon', 'TEXT', 4),\n",
              " ('Leaders_Score', 'TEXT', 4),\n",
              " ('Teachers_Icon', 'TEXT', 4),\n",
              " ('Teachers_Score', 'TEXT', 4),\n",
              " ('Parent_Engagement_Icon', 'TEXT', 4),\n",
              " ('Parent_Engagement_Score', 'TEXT', 4),\n",
              " ('Parent_Environment_Icon', 'TEXT', 4),\n",
              " ('Parent_Environment_Score', 'TEXT', 4),\n",
              " ('AVERAGE_STUDENT_ATTENDANCE', 'TEXT', 4),\n",
              " ('Rate_of_Misconducts__per_100_students_', 'REAL', 4),\n",
              " ('Average_Teacher_Attendance', 'TEXT', 4),\n",
              " ('Individualized_Education_Program_Compliance_Rate', 'TEXT', 4),\n",
              " ('Pk_2_Literacy__', 'TEXT', 4),\n",
              " ('Pk_2_Math__', 'TEXT', 4),\n",
              " ('Gr3_5_Grade_Level_Math__', 'TEXT', 4),\n",
              " ('Gr3_5_Grade_Level_Read__', 'TEXT', 4),\n",
              " ('Gr3_5_Keep_Pace_Read__', 'TEXT', 4),\n",
              " ('Gr3_5_Keep_Pace_Math__', 'TEXT', 4),\n",
              " ('Gr6_8_Grade_Level_Math__', 'TEXT', 4),\n",
              " ('Gr6_8_Grade_Level_Read__', 'TEXT', 4),\n",
              " ('Gr6_8_Keep_Pace_Math_', 'TEXT', 4),\n",
              " ('Gr6_8_Keep_Pace_Read__', 'TEXT', 4),\n",
              " ('Gr_8_Explore_Math__', 'TEXT', 4),\n",
              " ('Gr_8_Explore_Read__', 'TEXT', 4),\n",
              " ('ISAT_Exceeding_Math__', 'REAL', 4),\n",
              " ('ISAT_Exceeding_Reading__', 'REAL', 4),\n",
              " ('ISAT_Value_Add_Math', 'REAL', 4),\n",
              " ('ISAT_Value_Add_Read', 'REAL', 4),\n",
              " ('ISAT_Value_Add_Color_Math', 'TEXT', 4),\n",
              " ('ISAT_Value_Add_Color_Read', 'TEXT', 4),\n",
              " ('Students_Taking__Algebra__', 'TEXT', 4),\n",
              " ('Students_Passing__Algebra__', 'TEXT', 4),\n",
              " ('9th Grade EXPLORE (2009)', 'TEXT', 4),\n",
              " ('9th Grade EXPLORE (2010)', 'TEXT', 4),\n",
              " ('10th Grade PLAN (2009)', 'TEXT', 4),\n",
              " ('10th Grade PLAN (2010)', 'TEXT', 4),\n",
              " ('Net_Change_EXPLORE_and_PLAN', 'TEXT', 4),\n",
              " ('11th Grade Average ACT (2011)', 'TEXT', 4),\n",
              " ('Net_Change_PLAN_and_ACT', 'TEXT', 4),\n",
              " ('College_Eligibility__', 'TEXT', 4),\n",
              " ('Graduation_Rate__', 'TEXT', 4),\n",
              " ('College_Enrollment_Rate__', 'TEXT', 4),\n",
              " ('COLLEGE_ENROLLMENT', 'INTEGER', 7),\n",
              " ('General_Services_Route', 'INTEGER', 7),\n",
              " ('Freshman_on_Track_Rate__', 'TEXT', 4),\n",
              " ('X_COORDINATE', 'REAL', 4),\n",
              " ('Y_COORDINATE', 'REAL', 4),\n",
              " ('Latitude', 'REAL', 4),\n",
              " ('Longitude', 'REAL', 4),\n",
              " ('COMMUNITY_AREA_NUMBER', 'INTEGER', 7),\n",
              " ('COMMUNITY_AREA_NAME', 'TEXT', 4),\n",
              " ('Ward', 'INTEGER', 7),\n",
              " ('Police_District', 'INTEGER', 7),\n",
              " ('Location', 'TEXT', 4)]"
            ],
            "text/html": [
              "<table>\n",
              "    <thead>\n",
              "        <tr>\n",
              "            <th>name</th>\n",
              "            <th>type</th>\n",
              "            <th>length(type)</th>\n",
              "        </tr>\n",
              "    </thead>\n",
              "    <tbody>\n",
              "        <tr>\n",
              "            <td>School_ID</td>\n",
              "            <td>INTEGER</td>\n",
              "            <td>7</td>\n",
              "        </tr>\n",
              "        <tr>\n",
              "            <td>NAME_OF_SCHOOL</td>\n",
              "            <td>TEXT</td>\n",
              "            <td>4</td>\n",
              "        </tr>\n",
              "        <tr>\n",
              "            <td>Elementary, Middle, or High School</td>\n",
              "            <td>TEXT</td>\n",
              "            <td>4</td>\n",
              "        </tr>\n",
              "        <tr>\n",
              "            <td>Street_Address</td>\n",
              "            <td>TEXT</td>\n",
              "            <td>4</td>\n",
              "        </tr>\n",
              "        <tr>\n",
              "            <td>City</td>\n",
              "            <td>TEXT</td>\n",
              "            <td>4</td>\n",
              "        </tr>\n",
              "        <tr>\n",
              "            <td>State</td>\n",
              "            <td>TEXT</td>\n",
              "            <td>4</td>\n",
              "        </tr>\n",
              "        <tr>\n",
              "            <td>ZIP_Code</td>\n",
              "            <td>INTEGER</td>\n",
              "            <td>7</td>\n",
              "        </tr>\n",
              "        <tr>\n",
              "            <td>Phone_Number</td>\n",
              "            <td>TEXT</td>\n",
              "            <td>4</td>\n",
              "        </tr>\n",
              "        <tr>\n",
              "            <td>Link</td>\n",
              "            <td>TEXT</td>\n",
              "            <td>4</td>\n",
              "        </tr>\n",
              "        <tr>\n",
              "            <td>Network_Manager</td>\n",
              "            <td>TEXT</td>\n",
              "            <td>4</td>\n",
              "        </tr>\n",
              "        <tr>\n",
              "            <td>Collaborative_Name</td>\n",
              "            <td>TEXT</td>\n",
              "            <td>4</td>\n",
              "        </tr>\n",
              "        <tr>\n",
              "            <td>Adequate_Yearly_Progress_Made_</td>\n",
              "            <td>TEXT</td>\n",
              "            <td>4</td>\n",
              "        </tr>\n",
              "        <tr>\n",
              "            <td>Track_Schedule</td>\n",
              "            <td>TEXT</td>\n",
              "            <td>4</td>\n",
              "        </tr>\n",
              "        <tr>\n",
              "            <td>CPS_Performance_Policy_Status</td>\n",
              "            <td>TEXT</td>\n",
              "            <td>4</td>\n",
              "        </tr>\n",
              "        <tr>\n",
              "            <td>CPS_Performance_Policy_Level</td>\n",
              "            <td>TEXT</td>\n",
              "            <td>4</td>\n",
              "        </tr>\n",
              "        <tr>\n",
              "            <td>HEALTHY_SCHOOL_CERTIFIED</td>\n",
              "            <td>TEXT</td>\n",
              "            <td>4</td>\n",
              "        </tr>\n",
              "        <tr>\n",
              "            <td>Safety_Icon</td>\n",
              "            <td>TEXT</td>\n",
              "            <td>4</td>\n",
              "        </tr>\n",
              "        <tr>\n",
              "            <td>SAFETY_SCORE</td>\n",
              "            <td>REAL</td>\n",
              "            <td>4</td>\n",
              "        </tr>\n",
              "        <tr>\n",
              "            <td>Family_Involvement_Icon</td>\n",
              "            <td>TEXT</td>\n",
              "            <td>4</td>\n",
              "        </tr>\n",
              "        <tr>\n",
              "            <td>Family_Involvement_Score</td>\n",
              "            <td>TEXT</td>\n",
              "            <td>4</td>\n",
              "        </tr>\n",
              "        <tr>\n",
              "            <td>Environment_Icon</td>\n",
              "            <td>TEXT</td>\n",
              "            <td>4</td>\n",
              "        </tr>\n",
              "        <tr>\n",
              "            <td>Environment_Score</td>\n",
              "            <td>REAL</td>\n",
              "            <td>4</td>\n",
              "        </tr>\n",
              "        <tr>\n",
              "            <td>Instruction_Icon</td>\n",
              "            <td>TEXT</td>\n",
              "            <td>4</td>\n",
              "        </tr>\n",
              "        <tr>\n",
              "            <td>Instruction_Score</td>\n",
              "            <td>REAL</td>\n",
              "            <td>4</td>\n",
              "        </tr>\n",
              "        <tr>\n",
              "            <td>Leaders_Icon</td>\n",
              "            <td>TEXT</td>\n",
              "            <td>4</td>\n",
              "        </tr>\n",
              "        <tr>\n",
              "            <td>Leaders_Score</td>\n",
              "            <td>TEXT</td>\n",
              "            <td>4</td>\n",
              "        </tr>\n",
              "        <tr>\n",
              "            <td>Teachers_Icon</td>\n",
              "            <td>TEXT</td>\n",
              "            <td>4</td>\n",
              "        </tr>\n",
              "        <tr>\n",
              "            <td>Teachers_Score</td>\n",
              "            <td>TEXT</td>\n",
              "            <td>4</td>\n",
              "        </tr>\n",
              "        <tr>\n",
              "            <td>Parent_Engagement_Icon</td>\n",
              "            <td>TEXT</td>\n",
              "            <td>4</td>\n",
              "        </tr>\n",
              "        <tr>\n",
              "            <td>Parent_Engagement_Score</td>\n",
              "            <td>TEXT</td>\n",
              "            <td>4</td>\n",
              "        </tr>\n",
              "        <tr>\n",
              "            <td>Parent_Environment_Icon</td>\n",
              "            <td>TEXT</td>\n",
              "            <td>4</td>\n",
              "        </tr>\n",
              "        <tr>\n",
              "            <td>Parent_Environment_Score</td>\n",
              "            <td>TEXT</td>\n",
              "            <td>4</td>\n",
              "        </tr>\n",
              "        <tr>\n",
              "            <td>AVERAGE_STUDENT_ATTENDANCE</td>\n",
              "            <td>TEXT</td>\n",
              "            <td>4</td>\n",
              "        </tr>\n",
              "        <tr>\n",
              "            <td>Rate_of_Misconducts__per_100_students_</td>\n",
              "            <td>REAL</td>\n",
              "            <td>4</td>\n",
              "        </tr>\n",
              "        <tr>\n",
              "            <td>Average_Teacher_Attendance</td>\n",
              "            <td>TEXT</td>\n",
              "            <td>4</td>\n",
              "        </tr>\n",
              "        <tr>\n",
              "            <td>Individualized_Education_Program_Compliance_Rate</td>\n",
              "            <td>TEXT</td>\n",
              "            <td>4</td>\n",
              "        </tr>\n",
              "        <tr>\n",
              "            <td>Pk_2_Literacy__</td>\n",
              "            <td>TEXT</td>\n",
              "            <td>4</td>\n",
              "        </tr>\n",
              "        <tr>\n",
              "            <td>Pk_2_Math__</td>\n",
              "            <td>TEXT</td>\n",
              "            <td>4</td>\n",
              "        </tr>\n",
              "        <tr>\n",
              "            <td>Gr3_5_Grade_Level_Math__</td>\n",
              "            <td>TEXT</td>\n",
              "            <td>4</td>\n",
              "        </tr>\n",
              "        <tr>\n",
              "            <td>Gr3_5_Grade_Level_Read__</td>\n",
              "            <td>TEXT</td>\n",
              "            <td>4</td>\n",
              "        </tr>\n",
              "        <tr>\n",
              "            <td>Gr3_5_Keep_Pace_Read__</td>\n",
              "            <td>TEXT</td>\n",
              "            <td>4</td>\n",
              "        </tr>\n",
              "        <tr>\n",
              "            <td>Gr3_5_Keep_Pace_Math__</td>\n",
              "            <td>TEXT</td>\n",
              "            <td>4</td>\n",
              "        </tr>\n",
              "        <tr>\n",
              "            <td>Gr6_8_Grade_Level_Math__</td>\n",
              "            <td>TEXT</td>\n",
              "            <td>4</td>\n",
              "        </tr>\n",
              "        <tr>\n",
              "            <td>Gr6_8_Grade_Level_Read__</td>\n",
              "            <td>TEXT</td>\n",
              "            <td>4</td>\n",
              "        </tr>\n",
              "        <tr>\n",
              "            <td>Gr6_8_Keep_Pace_Math_</td>\n",
              "            <td>TEXT</td>\n",
              "            <td>4</td>\n",
              "        </tr>\n",
              "        <tr>\n",
              "            <td>Gr6_8_Keep_Pace_Read__</td>\n",
              "            <td>TEXT</td>\n",
              "            <td>4</td>\n",
              "        </tr>\n",
              "        <tr>\n",
              "            <td>Gr_8_Explore_Math__</td>\n",
              "            <td>TEXT</td>\n",
              "            <td>4</td>\n",
              "        </tr>\n",
              "        <tr>\n",
              "            <td>Gr_8_Explore_Read__</td>\n",
              "            <td>TEXT</td>\n",
              "            <td>4</td>\n",
              "        </tr>\n",
              "        <tr>\n",
              "            <td>ISAT_Exceeding_Math__</td>\n",
              "            <td>REAL</td>\n",
              "            <td>4</td>\n",
              "        </tr>\n",
              "        <tr>\n",
              "            <td>ISAT_Exceeding_Reading__</td>\n",
              "            <td>REAL</td>\n",
              "            <td>4</td>\n",
              "        </tr>\n",
              "        <tr>\n",
              "            <td>ISAT_Value_Add_Math</td>\n",
              "            <td>REAL</td>\n",
              "            <td>4</td>\n",
              "        </tr>\n",
              "        <tr>\n",
              "            <td>ISAT_Value_Add_Read</td>\n",
              "            <td>REAL</td>\n",
              "            <td>4</td>\n",
              "        </tr>\n",
              "        <tr>\n",
              "            <td>ISAT_Value_Add_Color_Math</td>\n",
              "            <td>TEXT</td>\n",
              "            <td>4</td>\n",
              "        </tr>\n",
              "        <tr>\n",
              "            <td>ISAT_Value_Add_Color_Read</td>\n",
              "            <td>TEXT</td>\n",
              "            <td>4</td>\n",
              "        </tr>\n",
              "        <tr>\n",
              "            <td>Students_Taking__Algebra__</td>\n",
              "            <td>TEXT</td>\n",
              "            <td>4</td>\n",
              "        </tr>\n",
              "        <tr>\n",
              "            <td>Students_Passing__Algebra__</td>\n",
              "            <td>TEXT</td>\n",
              "            <td>4</td>\n",
              "        </tr>\n",
              "        <tr>\n",
              "            <td>9th Grade EXPLORE (2009)</td>\n",
              "            <td>TEXT</td>\n",
              "            <td>4</td>\n",
              "        </tr>\n",
              "        <tr>\n",
              "            <td>9th Grade EXPLORE (2010)</td>\n",
              "            <td>TEXT</td>\n",
              "            <td>4</td>\n",
              "        </tr>\n",
              "        <tr>\n",
              "            <td>10th Grade PLAN (2009)</td>\n",
              "            <td>TEXT</td>\n",
              "            <td>4</td>\n",
              "        </tr>\n",
              "        <tr>\n",
              "            <td>10th Grade PLAN (2010)</td>\n",
              "            <td>TEXT</td>\n",
              "            <td>4</td>\n",
              "        </tr>\n",
              "        <tr>\n",
              "            <td>Net_Change_EXPLORE_and_PLAN</td>\n",
              "            <td>TEXT</td>\n",
              "            <td>4</td>\n",
              "        </tr>\n",
              "        <tr>\n",
              "            <td>11th Grade Average ACT (2011)</td>\n",
              "            <td>TEXT</td>\n",
              "            <td>4</td>\n",
              "        </tr>\n",
              "        <tr>\n",
              "            <td>Net_Change_PLAN_and_ACT</td>\n",
              "            <td>TEXT</td>\n",
              "            <td>4</td>\n",
              "        </tr>\n",
              "        <tr>\n",
              "            <td>College_Eligibility__</td>\n",
              "            <td>TEXT</td>\n",
              "            <td>4</td>\n",
              "        </tr>\n",
              "        <tr>\n",
              "            <td>Graduation_Rate__</td>\n",
              "            <td>TEXT</td>\n",
              "            <td>4</td>\n",
              "        </tr>\n",
              "        <tr>\n",
              "            <td>College_Enrollment_Rate__</td>\n",
              "            <td>TEXT</td>\n",
              "            <td>4</td>\n",
              "        </tr>\n",
              "        <tr>\n",
              "            <td>COLLEGE_ENROLLMENT</td>\n",
              "            <td>INTEGER</td>\n",
              "            <td>7</td>\n",
              "        </tr>\n",
              "        <tr>\n",
              "            <td>General_Services_Route</td>\n",
              "            <td>INTEGER</td>\n",
              "            <td>7</td>\n",
              "        </tr>\n",
              "        <tr>\n",
              "            <td>Freshman_on_Track_Rate__</td>\n",
              "            <td>TEXT</td>\n",
              "            <td>4</td>\n",
              "        </tr>\n",
              "        <tr>\n",
              "            <td>X_COORDINATE</td>\n",
              "            <td>REAL</td>\n",
              "            <td>4</td>\n",
              "        </tr>\n",
              "        <tr>\n",
              "            <td>Y_COORDINATE</td>\n",
              "            <td>REAL</td>\n",
              "            <td>4</td>\n",
              "        </tr>\n",
              "        <tr>\n",
              "            <td>Latitude</td>\n",
              "            <td>REAL</td>\n",
              "            <td>4</td>\n",
              "        </tr>\n",
              "        <tr>\n",
              "            <td>Longitude</td>\n",
              "            <td>REAL</td>\n",
              "            <td>4</td>\n",
              "        </tr>\n",
              "        <tr>\n",
              "            <td>COMMUNITY_AREA_NUMBER</td>\n",
              "            <td>INTEGER</td>\n",
              "            <td>7</td>\n",
              "        </tr>\n",
              "        <tr>\n",
              "            <td>COMMUNITY_AREA_NAME</td>\n",
              "            <td>TEXT</td>\n",
              "            <td>4</td>\n",
              "        </tr>\n",
              "        <tr>\n",
              "            <td>Ward</td>\n",
              "            <td>INTEGER</td>\n",
              "            <td>7</td>\n",
              "        </tr>\n",
              "        <tr>\n",
              "            <td>Police_District</td>\n",
              "            <td>INTEGER</td>\n",
              "            <td>7</td>\n",
              "        </tr>\n",
              "        <tr>\n",
              "            <td>Location</td>\n",
              "            <td>TEXT</td>\n",
              "            <td>4</td>\n",
              "        </tr>\n",
              "    </tbody>\n",
              "</table>"
            ]
          },
          "metadata": {},
          "execution_count": 60
        }
      ]
    },
    {
      "cell_type": "code",
      "source": [
        "#Socioeconomic\n",
        "\n",
        "%sql SELECT name,type,length(type) FROM PRAGMA_TABLE_INFO('CENSUS_DATA');"
      ],
      "metadata": {
        "colab": {
          "base_uri": "https://localhost:8080/",
          "height": 258
        },
        "id": "ZpwlvNF5zuil",
        "outputId": "5bc8aadb-0717-40f6-a3b4-813ed014496f"
      },
      "execution_count": 49,
      "outputs": [
        {
          "output_type": "stream",
          "name": "stdout",
          "text": [
            " * sqlite:///FinalDB.db\n",
            "Done.\n"
          ]
        },
        {
          "output_type": "execute_result",
          "data": {
            "text/plain": [
              "[('COMMUNITY_AREA_NUMBER', 'REAL', 4),\n",
              " ('COMMUNITY_AREA_NAME', 'TEXT', 4),\n",
              " ('PERCENT_OF_HOUSING_CROWDED', 'REAL', 4),\n",
              " ('PERCENT_HOUSEHOLDS_BELOW_POVERTY', 'REAL', 4),\n",
              " ('PERCENT_AGED_16__UNEMPLOYED', 'REAL', 4),\n",
              " ('PERCENT_AGED_25__WITHOUT_HIGH_SCHOOL_DIPLOMA', 'REAL', 4),\n",
              " ('PERCENT_AGED_UNDER_18_OR_OVER_64', 'REAL', 4),\n",
              " ('PER_CAPITA_INCOME', 'INTEGER', 7),\n",
              " ('HARDSHIP_INDEX', 'REAL', 4)]"
            ],
            "text/html": [
              "<table>\n",
              "    <thead>\n",
              "        <tr>\n",
              "            <th>name</th>\n",
              "            <th>type</th>\n",
              "            <th>length(type)</th>\n",
              "        </tr>\n",
              "    </thead>\n",
              "    <tbody>\n",
              "        <tr>\n",
              "            <td>COMMUNITY_AREA_NUMBER</td>\n",
              "            <td>REAL</td>\n",
              "            <td>4</td>\n",
              "        </tr>\n",
              "        <tr>\n",
              "            <td>COMMUNITY_AREA_NAME</td>\n",
              "            <td>TEXT</td>\n",
              "            <td>4</td>\n",
              "        </tr>\n",
              "        <tr>\n",
              "            <td>PERCENT_OF_HOUSING_CROWDED</td>\n",
              "            <td>REAL</td>\n",
              "            <td>4</td>\n",
              "        </tr>\n",
              "        <tr>\n",
              "            <td>PERCENT_HOUSEHOLDS_BELOW_POVERTY</td>\n",
              "            <td>REAL</td>\n",
              "            <td>4</td>\n",
              "        </tr>\n",
              "        <tr>\n",
              "            <td>PERCENT_AGED_16__UNEMPLOYED</td>\n",
              "            <td>REAL</td>\n",
              "            <td>4</td>\n",
              "        </tr>\n",
              "        <tr>\n",
              "            <td>PERCENT_AGED_25__WITHOUT_HIGH_SCHOOL_DIPLOMA</td>\n",
              "            <td>REAL</td>\n",
              "            <td>4</td>\n",
              "        </tr>\n",
              "        <tr>\n",
              "            <td>PERCENT_AGED_UNDER_18_OR_OVER_64</td>\n",
              "            <td>REAL</td>\n",
              "            <td>4</td>\n",
              "        </tr>\n",
              "        <tr>\n",
              "            <td>PER_CAPITA_INCOME</td>\n",
              "            <td>INTEGER</td>\n",
              "            <td>7</td>\n",
              "        </tr>\n",
              "        <tr>\n",
              "            <td>HARDSHIP_INDEX</td>\n",
              "            <td>REAL</td>\n",
              "            <td>4</td>\n",
              "        </tr>\n",
              "    </tbody>\n",
              "</table>"
            ]
          },
          "metadata": {},
          "execution_count": 49
        }
      ]
    },
    {
      "cell_type": "code",
      "source": [
        "# Problem 1: Find the total number of crimes recorded in the CRIME table\n",
        "\n",
        "%sql SELECT COUNT(ID) FROM CHICAGO_CRIME_DATA;"
      ],
      "metadata": {
        "colab": {
          "base_uri": "https://localhost:8080/",
          "height": 94
        },
        "id": "iTwU0t4vz70i",
        "outputId": "a5b6633d-f5f4-4883-b79b-b447bda6107f"
      },
      "execution_count": 50,
      "outputs": [
        {
          "output_type": "stream",
          "name": "stdout",
          "text": [
            " * sqlite:///FinalDB.db\n",
            "Done.\n"
          ]
        },
        {
          "output_type": "execute_result",
          "data": {
            "text/plain": [
              "[(533,)]"
            ],
            "text/html": [
              "<table>\n",
              "    <thead>\n",
              "        <tr>\n",
              "            <th>COUNT(ID)</th>\n",
              "        </tr>\n",
              "    </thead>\n",
              "    <tbody>\n",
              "        <tr>\n",
              "            <td>533</td>\n",
              "        </tr>\n",
              "    </tbody>\n",
              "</table>"
            ]
          },
          "metadata": {},
          "execution_count": 50
        }
      ]
    },
    {
      "cell_type": "code",
      "source": [
        "# Problem 2: List community area names and numbers with per capita income < 11000\n",
        "\n",
        "%sql SELECT COMMUNITY_AREA_NAME, COMMUNITY_AREA_NUMBER, PER_CAPITA_INCOME FROM CENSUS_DATA WHERE PER_CAPITA_INCOME < 11000;"
      ],
      "metadata": {
        "colab": {
          "base_uri": "https://localhost:8080/",
          "height": 156
        },
        "id": "xFyyvKF50Lo-",
        "outputId": "8e8b2b51-b2bf-47ca-ddac-4c26cd117497"
      },
      "execution_count": 51,
      "outputs": [
        {
          "output_type": "stream",
          "name": "stdout",
          "text": [
            " * sqlite:///FinalDB.db\n",
            "Done.\n"
          ]
        },
        {
          "output_type": "execute_result",
          "data": {
            "text/plain": [
              "[('West Garfield Park', 26.0, 10934),\n",
              " ('South Lawndale', 30.0, 10402),\n",
              " ('Fuller Park', 37.0, 10432),\n",
              " ('Riverdale', 54.0, 8201)]"
            ],
            "text/html": [
              "<table>\n",
              "    <thead>\n",
              "        <tr>\n",
              "            <th>COMMUNITY_AREA_NAME</th>\n",
              "            <th>COMMUNITY_AREA_NUMBER</th>\n",
              "            <th>PER_CAPITA_INCOME</th>\n",
              "        </tr>\n",
              "    </thead>\n",
              "    <tbody>\n",
              "        <tr>\n",
              "            <td>West Garfield Park</td>\n",
              "            <td>26.0</td>\n",
              "            <td>10934</td>\n",
              "        </tr>\n",
              "        <tr>\n",
              "            <td>South Lawndale</td>\n",
              "            <td>30.0</td>\n",
              "            <td>10402</td>\n",
              "        </tr>\n",
              "        <tr>\n",
              "            <td>Fuller Park</td>\n",
              "            <td>37.0</td>\n",
              "            <td>10432</td>\n",
              "        </tr>\n",
              "        <tr>\n",
              "            <td>Riverdale</td>\n",
              "            <td>54.0</td>\n",
              "            <td>8201</td>\n",
              "        </tr>\n",
              "    </tbody>\n",
              "</table>"
            ]
          },
          "metadata": {},
          "execution_count": 51
        }
      ]
    },
    {
      "cell_type": "code",
      "source": [
        "# Problem 3: List all case numbers for crimes involving minors (children are not considered minors)\n",
        "\n",
        "%sql SELECT DESCRIPTION FROM CHICAGO_CRIME_DATA WHERE DESCRIPTION LIKE '%minor%'"
      ],
      "metadata": {
        "colab": {
          "base_uri": "https://localhost:8080/",
          "height": 115
        },
        "id": "Yhm-Ny820k1T",
        "outputId": "02960a5e-4fb3-4114-83d2-0372cde52b76"
      },
      "execution_count": 52,
      "outputs": [
        {
          "output_type": "stream",
          "name": "stdout",
          "text": [
            " * sqlite:///FinalDB.db\n",
            "Done.\n"
          ]
        },
        {
          "output_type": "execute_result",
          "data": {
            "text/plain": [
              "[('SELL/GIVE/DEL LIQUOR TO MINOR',), ('ILLEGAL CONSUMPTION BY MINOR',)]"
            ],
            "text/html": [
              "<table>\n",
              "    <thead>\n",
              "        <tr>\n",
              "            <th>DESCRIPTION</th>\n",
              "        </tr>\n",
              "    </thead>\n",
              "    <tbody>\n",
              "        <tr>\n",
              "            <td>SELL/GIVE/DEL LIQUOR TO MINOR</td>\n",
              "        </tr>\n",
              "        <tr>\n",
              "            <td>ILLEGAL CONSUMPTION BY MINOR</td>\n",
              "        </tr>\n",
              "    </tbody>\n",
              "</table>"
            ]
          },
          "metadata": {},
          "execution_count": 52
        }
      ]
    },
    {
      "cell_type": "code",
      "source": [
        "# Problem 4: List all kidnapping crimes involving a child\n",
        "%%sql\n",
        "SELECT CASE_NUMBER, PRIMARY_TYPE, DESCRIPTION\n",
        "FROM CHICAGO_CRIME_DATA\n",
        "WHERE PRIMARY_TYPE LIKE '%KIDNAPPING%' AND DESCRIPTION LIKE '%CHILD%'"
      ],
      "metadata": {
        "colab": {
          "base_uri": "https://localhost:8080/",
          "height": 94
        },
        "id": "H54vbJ3p2F9c",
        "outputId": "c96c9575-cdad-493f-c4b3-c7992954fadf"
      },
      "execution_count": 53,
      "outputs": [
        {
          "output_type": "stream",
          "name": "stdout",
          "text": [
            " * sqlite:///FinalDB.db\n",
            "Done.\n"
          ]
        },
        {
          "output_type": "execute_result",
          "data": {
            "text/plain": [
              "[('HN144152', 'KIDNAPPING', 'CHILD ABDUCTION/STRANGER')]"
            ],
            "text/html": [
              "<table>\n",
              "    <thead>\n",
              "        <tr>\n",
              "            <th>CASE_NUMBER</th>\n",
              "            <th>PRIMARY_TYPE</th>\n",
              "            <th>DESCRIPTION</th>\n",
              "        </tr>\n",
              "    </thead>\n",
              "    <tbody>\n",
              "        <tr>\n",
              "            <td>HN144152</td>\n",
              "            <td>KIDNAPPING</td>\n",
              "            <td>CHILD ABDUCTION/STRANGER</td>\n",
              "        </tr>\n",
              "    </tbody>\n",
              "</table>"
            ]
          },
          "metadata": {},
          "execution_count": 53
        }
      ]
    },
    {
      "cell_type": "code",
      "source": [
        "# Problem 5: List the kind of crimes that were recorded at schools (No repetitions)\n",
        "%%sql\n",
        "SELECT DISTINCT PRIMARY_TYPE, LOCATION_DESCRIPTION\n",
        "FROM CHICAGO_CRIME_DATA\n",
        "WHERE LOCATION_DESCRIPTION LIKE '%SCHOOL%';"
      ],
      "metadata": {
        "colab": {
          "base_uri": "https://localhost:8080/",
          "height": 258
        },
        "id": "ffYFvDps3FOK",
        "outputId": "c9376c88-b7c0-440f-d247-226987b6cd13"
      },
      "execution_count": 54,
      "outputs": [
        {
          "output_type": "stream",
          "name": "stdout",
          "text": [
            " * sqlite:///FinalDB.db\n",
            "Done.\n"
          ]
        },
        {
          "output_type": "execute_result",
          "data": {
            "text/plain": [
              "[('BATTERY', 'SCHOOL, PUBLIC, GROUNDS'),\n",
              " ('BATTERY', 'SCHOOL, PUBLIC, BUILDING'),\n",
              " ('CRIMINAL DAMAGE', 'SCHOOL, PUBLIC, GROUNDS'),\n",
              " ('NARCOTICS', 'SCHOOL, PUBLIC, GROUNDS'),\n",
              " ('NARCOTICS', 'SCHOOL, PUBLIC, BUILDING'),\n",
              " ('ASSAULT', 'SCHOOL, PUBLIC, GROUNDS'),\n",
              " ('CRIMINAL TRESPASS', 'SCHOOL, PUBLIC, GROUNDS'),\n",
              " ('PUBLIC PEACE VIOLATION', 'SCHOOL, PRIVATE, BUILDING'),\n",
              " ('PUBLIC PEACE VIOLATION', 'SCHOOL, PUBLIC, BUILDING')]"
            ],
            "text/html": [
              "<table>\n",
              "    <thead>\n",
              "        <tr>\n",
              "            <th>PRIMARY_TYPE</th>\n",
              "            <th>LOCATION_DESCRIPTION</th>\n",
              "        </tr>\n",
              "    </thead>\n",
              "    <tbody>\n",
              "        <tr>\n",
              "            <td>BATTERY</td>\n",
              "            <td>SCHOOL, PUBLIC, GROUNDS</td>\n",
              "        </tr>\n",
              "        <tr>\n",
              "            <td>BATTERY</td>\n",
              "            <td>SCHOOL, PUBLIC, BUILDING</td>\n",
              "        </tr>\n",
              "        <tr>\n",
              "            <td>CRIMINAL DAMAGE</td>\n",
              "            <td>SCHOOL, PUBLIC, GROUNDS</td>\n",
              "        </tr>\n",
              "        <tr>\n",
              "            <td>NARCOTICS</td>\n",
              "            <td>SCHOOL, PUBLIC, GROUNDS</td>\n",
              "        </tr>\n",
              "        <tr>\n",
              "            <td>NARCOTICS</td>\n",
              "            <td>SCHOOL, PUBLIC, BUILDING</td>\n",
              "        </tr>\n",
              "        <tr>\n",
              "            <td>ASSAULT</td>\n",
              "            <td>SCHOOL, PUBLIC, GROUNDS</td>\n",
              "        </tr>\n",
              "        <tr>\n",
              "            <td>CRIMINAL TRESPASS</td>\n",
              "            <td>SCHOOL, PUBLIC, GROUNDS</td>\n",
              "        </tr>\n",
              "        <tr>\n",
              "            <td>PUBLIC PEACE VIOLATION</td>\n",
              "            <td>SCHOOL, PRIVATE, BUILDING</td>\n",
              "        </tr>\n",
              "        <tr>\n",
              "            <td>PUBLIC PEACE VIOLATION</td>\n",
              "            <td>SCHOOL, PUBLIC, BUILDING</td>\n",
              "        </tr>\n",
              "    </tbody>\n",
              "</table>"
            ]
          },
          "metadata": {},
          "execution_count": 54
        }
      ]
    },
    {
      "cell_type": "code",
      "source": [
        "%sql SELECT DISTINCT(\"Elementary, Middle, or High School\") FROM CHICAGO_PUBLIC_SCHOOLS"
      ],
      "metadata": {
        "colab": {
          "base_uri": "https://localhost:8080/",
          "height": 135
        },
        "id": "uQD7gBe36Tfg",
        "outputId": "310dac19-877c-42ab-a1f3-2ad2a6ddc37d"
      },
      "execution_count": 63,
      "outputs": [
        {
          "output_type": "stream",
          "name": "stdout",
          "text": [
            " * sqlite:///FinalDB.db\n",
            "Done.\n"
          ]
        },
        {
          "output_type": "execute_result",
          "data": {
            "text/plain": [
              "[('ES',), ('HS',), ('MS',)]"
            ],
            "text/html": [
              "<table>\n",
              "    <thead>\n",
              "        <tr>\n",
              "            <th>Elementary, Middle, or High School</th>\n",
              "        </tr>\n",
              "    </thead>\n",
              "    <tbody>\n",
              "        <tr>\n",
              "            <td>ES</td>\n",
              "        </tr>\n",
              "        <tr>\n",
              "            <td>HS</td>\n",
              "        </tr>\n",
              "        <tr>\n",
              "            <td>MS</td>\n",
              "        </tr>\n",
              "    </tbody>\n",
              "</table>"
            ]
          },
          "metadata": {},
          "execution_count": 63
        }
      ]
    },
    {
      "cell_type": "code",
      "source": [
        "# Problem 6: List the type of schools along with the average safety score for each type\n",
        "\n",
        "%%sql\n",
        "\n",
        "SELECT DISTINCT(\"Elementary, Middle, or High School\"), AVG(SAFETY_SCORE) AS AVERAGE_SAFETY_SCORE\n",
        "FROM CHICAGO_PUBLIC_SCHOOLS\n",
        "GROUP BY \"Elementary, Middle, or High School\";"
      ],
      "metadata": {
        "colab": {
          "base_uri": "https://localhost:8080/",
          "height": 135
        },
        "id": "KUUSxwiZ6HIA",
        "outputId": "0ec60b3a-60c8-46f6-c57f-eee4599df4a5"
      },
      "execution_count": 65,
      "outputs": [
        {
          "output_type": "stream",
          "name": "stdout",
          "text": [
            " * sqlite:///FinalDB.db\n",
            "Done.\n"
          ]
        },
        {
          "output_type": "execute_result",
          "data": {
            "text/plain": [
              "[('ES', 49.52038369304557), ('HS', 49.62352941176471), ('MS', 48.0)]"
            ],
            "text/html": [
              "<table>\n",
              "    <thead>\n",
              "        <tr>\n",
              "            <th>Elementary, Middle, or High School</th>\n",
              "            <th>AVERAGE_SAFETY_SCORE</th>\n",
              "        </tr>\n",
              "    </thead>\n",
              "    <tbody>\n",
              "        <tr>\n",
              "            <td>ES</td>\n",
              "            <td>49.52038369304557</td>\n",
              "        </tr>\n",
              "        <tr>\n",
              "            <td>HS</td>\n",
              "            <td>49.62352941176471</td>\n",
              "        </tr>\n",
              "        <tr>\n",
              "            <td>MS</td>\n",
              "            <td>48.0</td>\n",
              "        </tr>\n",
              "    </tbody>\n",
              "</table>"
            ]
          },
          "metadata": {},
          "execution_count": 65
        }
      ]
    },
    {
      "cell_type": "code",
      "source": [
        "# Problem 7: List 5 community areas with the highest % of households below poverty line\n",
        "%%sql\n",
        "\n",
        "SELECT COMMUNITY_AREA_NUMBER, COMMUNITY_AREA_NAME, PERCENT_HOUSEHOLDS_BELOW_POVERTY\n",
        "FROM CENSUS_DATA\n",
        "ORDER BY PERCENT_HOUSEHOLDS_BELOW_POVERTY DESC\n",
        "LIMIT 5;"
      ],
      "metadata": {
        "colab": {
          "base_uri": "https://localhost:8080/",
          "height": 176
        },
        "id": "h1Ix1zry9rYP",
        "outputId": "436953b3-cc7e-4f1a-e59d-5ea21fe6428a"
      },
      "execution_count": 70,
      "outputs": [
        {
          "output_type": "stream",
          "name": "stdout",
          "text": [
            " * sqlite:///FinalDB.db\n",
            "Done.\n"
          ]
        },
        {
          "output_type": "execute_result",
          "data": {
            "text/plain": [
              "[(54.0, 'Riverdale', 56.5),\n",
              " (37.0, 'Fuller Park', 51.2),\n",
              " (68.0, 'Englewood', 46.6),\n",
              " (29.0, 'North Lawndale', 43.1),\n",
              " (27.0, 'East Garfield Park', 42.4)]"
            ],
            "text/html": [
              "<table>\n",
              "    <thead>\n",
              "        <tr>\n",
              "            <th>COMMUNITY_AREA_NUMBER</th>\n",
              "            <th>COMMUNITY_AREA_NAME</th>\n",
              "            <th>PERCENT_HOUSEHOLDS_BELOW_POVERTY</th>\n",
              "        </tr>\n",
              "    </thead>\n",
              "    <tbody>\n",
              "        <tr>\n",
              "            <td>54.0</td>\n",
              "            <td>Riverdale</td>\n",
              "            <td>56.5</td>\n",
              "        </tr>\n",
              "        <tr>\n",
              "            <td>37.0</td>\n",
              "            <td>Fuller Park</td>\n",
              "            <td>51.2</td>\n",
              "        </tr>\n",
              "        <tr>\n",
              "            <td>68.0</td>\n",
              "            <td>Englewood</td>\n",
              "            <td>46.6</td>\n",
              "        </tr>\n",
              "        <tr>\n",
              "            <td>29.0</td>\n",
              "            <td>North Lawndale</td>\n",
              "            <td>43.1</td>\n",
              "        </tr>\n",
              "        <tr>\n",
              "            <td>27.0</td>\n",
              "            <td>East Garfield Park</td>\n",
              "            <td>42.4</td>\n",
              "        </tr>\n",
              "    </tbody>\n",
              "</table>"
            ]
          },
          "metadata": {},
          "execution_count": 70
        }
      ]
    },
    {
      "cell_type": "code",
      "source": [
        "# Problem 8: Which community area is most crime prone? show only community area number\n",
        "%%sql\n",
        "\n",
        "SELECT COMMUNITY_AREA_NUMBER, COUNT(COMMUNITY_AREA_NUMBER) AS FRECUENCY\n",
        "FROM CHICAGO_CRIME_DATA\n",
        "GROUP BY COMMUNITY_AREA_NUMBER\n",
        "ORDER BY FRECUENCY DESC\n",
        "LIMIT 1;"
      ],
      "metadata": {
        "colab": {
          "base_uri": "https://localhost:8080/",
          "height": 94
        },
        "id": "uaV5hqxtCFzS",
        "outputId": "3df5570e-40b8-401a-ffca-9a6bf1a3c6cd"
      },
      "execution_count": 76,
      "outputs": [
        {
          "output_type": "stream",
          "name": "stdout",
          "text": [
            " * sqlite:///FinalDB.db\n",
            "Done.\n"
          ]
        },
        {
          "output_type": "execute_result",
          "data": {
            "text/plain": [
              "[(25.0, 43)]"
            ],
            "text/html": [
              "<table>\n",
              "    <thead>\n",
              "        <tr>\n",
              "            <th>COMMUNITY_AREA_NUMBER</th>\n",
              "            <th>FRECUENCY</th>\n",
              "        </tr>\n",
              "    </thead>\n",
              "    <tbody>\n",
              "        <tr>\n",
              "            <td>25.0</td>\n",
              "            <td>43</td>\n",
              "        </tr>\n",
              "    </tbody>\n",
              "</table>"
            ]
          },
          "metadata": {},
          "execution_count": 76
        }
      ]
    },
    {
      "cell_type": "code",
      "source": [
        "# Problem 9: community area with highest hardship index\n",
        "\n",
        "%%sql\n",
        "\n",
        "SELECT COMMUNITY_AREA_NUMBER, COMMUNITY_AREA_NAME\n",
        "FROM CENSUS_DATA\n",
        "WHERE HARDSHIP_INDEX = (\n",
        "  SELECT MAX(HARDSHIP_INDEX)\n",
        "  FROM CENSUS_DATA\n",
        ")\n",
        "LIMIT 1;"
      ],
      "metadata": {
        "colab": {
          "base_uri": "https://localhost:8080/",
          "height": 94
        },
        "id": "gl57RChVKdAy",
        "outputId": "68cf656e-869e-4cbb-97b2-e1def6170acd"
      },
      "execution_count": 75,
      "outputs": [
        {
          "output_type": "stream",
          "name": "stdout",
          "text": [
            " * sqlite:///FinalDB.db\n",
            "Done.\n"
          ]
        },
        {
          "output_type": "execute_result",
          "data": {
            "text/plain": [
              "[(54.0, 'Riverdale')]"
            ],
            "text/html": [
              "<table>\n",
              "    <thead>\n",
              "        <tr>\n",
              "            <th>COMMUNITY_AREA_NUMBER</th>\n",
              "            <th>COMMUNITY_AREA_NAME</th>\n",
              "        </tr>\n",
              "    </thead>\n",
              "    <tbody>\n",
              "        <tr>\n",
              "            <td>54.0</td>\n",
              "            <td>Riverdale</td>\n",
              "        </tr>\n",
              "    </tbody>\n",
              "</table>"
            ]
          },
          "metadata": {},
          "execution_count": 75
        }
      ]
    },
    {
      "cell_type": "code",
      "source": [
        "# Porblem 10: determine the community Area name with the most number of crimes\n",
        "\n",
        "%%sql\n",
        "\n",
        "SELECT CD.COMMUNITY_AREA_NUMBER, CD.COMMUNITY_AREA_NAME, COUNT(CC.COMMUNITY_AREA_NUMBER) AS FRECUENCY\n",
        "FROM CENSUS_DATA CD\n",
        "INNER JOIN CHICAGO_CRIME_DATA CC ON CD.COMMUNITY_AREA_NUMBER = CC.COMMUNITY_AREA_NUMBER\n",
        "GROUP BY CD.COMMUNITY_AREA_NUMBER, CC.COMMUNITY_AREA_NUMBER\n",
        "ORDER BY FRECUENCY DESC\n",
        "LIMIT 1;"
      ],
      "metadata": {
        "colab": {
          "base_uri": "https://localhost:8080/",
          "height": 94
        },
        "id": "jb3sZx_HM5zI",
        "outputId": "f23688e7-3ba1-41e2-f38c-5c9577e66024"
      },
      "execution_count": 83,
      "outputs": [
        {
          "output_type": "stream",
          "name": "stdout",
          "text": [
            " * sqlite:///FinalDB.db\n",
            "Done.\n"
          ]
        },
        {
          "output_type": "execute_result",
          "data": {
            "text/plain": [
              "[(25.0, 'Austin', 43)]"
            ],
            "text/html": [
              "<table>\n",
              "    <thead>\n",
              "        <tr>\n",
              "            <th>COMMUNITY_AREA_NUMBER</th>\n",
              "            <th>COMMUNITY_AREA_NAME</th>\n",
              "            <th>FRECUENCY</th>\n",
              "        </tr>\n",
              "    </thead>\n",
              "    <tbody>\n",
              "        <tr>\n",
              "            <td>25.0</td>\n",
              "            <td>Austin</td>\n",
              "            <td>43</td>\n",
              "        </tr>\n",
              "    </tbody>\n",
              "</table>"
            ]
          },
          "metadata": {},
          "execution_count": 83
        }
      ]
    },
    {
      "cell_type": "code",
      "source": [
        "%%sql\n",
        "\n",
        "SELECT COUNT(*) FROM CHICAGO_CRIME_DATA;\n"
      ],
      "metadata": {
        "colab": {
          "base_uri": "https://localhost:8080/",
          "height": 94
        },
        "id": "pSvpK2vKVpWX",
        "outputId": "e6945128-2b99-472a-e24c-478f672edeac"
      },
      "execution_count": 84,
      "outputs": [
        {
          "output_type": "stream",
          "name": "stdout",
          "text": [
            " * sqlite:///FinalDB.db\n",
            "Done.\n"
          ]
        },
        {
          "output_type": "execute_result",
          "data": {
            "text/plain": [
              "[(533,)]"
            ],
            "text/html": [
              "<table>\n",
              "    <thead>\n",
              "        <tr>\n",
              "            <th>COUNT(*)</th>\n",
              "        </tr>\n",
              "    </thead>\n",
              "    <tbody>\n",
              "        <tr>\n",
              "            <td>533</td>\n",
              "        </tr>\n",
              "    </tbody>\n",
              "</table>"
            ]
          },
          "metadata": {},
          "execution_count": 84
        }
      ]
    }
  ]
}