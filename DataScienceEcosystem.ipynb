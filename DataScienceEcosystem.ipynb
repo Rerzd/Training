{
  "nbformat": 4,
  "nbformat_minor": 0,
  "metadata": {
    "colab": {
      "provenance": [],
      "authorship_tag": "ABX9TyM+J8DkwtLL6Lm5EobTpLMv",
      "include_colab_link": true
    },
    "kernelspec": {
      "name": "python3",
      "display_name": "Python 3"
    },
    "language_info": {
      "name": "python"
    }
  },
  "cells": [
    {
      "cell_type": "markdown",
      "metadata": {
        "id": "view-in-github",
        "colab_type": "text"
      },
      "source": [
        "<a href=\"https://colab.research.google.com/github/Rerzd/Training/blob/main/DataScienceEcosystem.ipynb\" target=\"_parent\"><img src=\"https://colab.research.google.com/assets/colab-badge.svg\" alt=\"Open In Colab\"/></a>"
      ]
    },
    {
      "cell_type": "markdown",
      "source": [
        "# Data science tools and ecosystem"
      ],
      "metadata": {
        "id": "6Zp09RGYUij3"
      }
    },
    {
      "cell_type": "markdown",
      "source": [
        "## This notebook is made with the objective of summarize tools and the ecosystem in data science\n",
        "\n"
      ],
      "metadata": {
        "id": "DgepKK_uWb2U"
      }
    },
    {
      "cell_type": "markdown",
      "source": [
        "Some of the languages that Data scientists use are:\n",
        "\n",
        "1. Python\n",
        "2. R\n",
        "3. SQL"
      ],
      "metadata": {
        "id": "0LMkBpbmX_fY"
      }
    },
    {
      "cell_type": "markdown",
      "source": [
        "Some of the commonly used libraries used by Data Scientists include:\n",
        "\n",
        "1. pandas\n",
        "2. Numpy\n",
        "3. matplotlib"
      ],
      "metadata": {
        "id": "FwEEew7SFC1I"
      }
    },
    {
      "cell_type": "markdown",
      "source": [
        "three development environment open source tools used in data science are:\n",
        "\n",
        "Open Source Tools|\n",
        "-----------------|\n",
        "Jupyter notebooks\n",
        "Visual Studio code\n",
        "R studio"
      ],
      "metadata": {
        "id": "mKVQ3sDzGWbA"
      }
    },
    {
      "cell_type": "markdown",
      "source": [
        "###Below are a few examples of evaluating arithmetic expressions in Python:\n",
        "\n",
        "1. Multiplication: 4 * 3 (Result: 12)\n",
        "2. Division: 30 / 6 (Result: 5)\n",
        "3. Sum: 8 + 9 (Result: 17)\n",
        "4. Substraction: 20 - 6 (Result: 14)"
      ],
      "metadata": {
        "id": "cUjv-X5QICG0"
      }
    },
    {
      "cell_type": "code",
      "execution_count": 2,
      "metadata": {
        "id": "Ee2_hScgUXk1",
        "colab": {
          "base_uri": "https://localhost:8080/"
        },
        "outputId": "486d02b9-0add-479e-b2da-be4489266e3c"
      },
      "outputs": [
        {
          "output_type": "execute_result",
          "data": {
            "text/plain": [
              "17"
            ]
          },
          "metadata": {},
          "execution_count": 2
        }
      ],
      "source": [
        "(3*4)+5\n",
        "#This a simple arithmetic expression to mutiply then add integers"
      ]
    },
    {
      "cell_type": "code",
      "source": [
        "Minutes = 200\n",
        "Hours = Minutes / 60\n",
        "print(Hours)\n",
        "#This will convert 200 minutes to hours by diving by 60"
      ],
      "metadata": {
        "colab": {
          "base_uri": "https://localhost:8080/"
        },
        "id": "Ntlh32-LJoM0",
        "outputId": "c133ef64-8583-4159-cdca-24a704cd477d"
      },
      "execution_count": 6,
      "outputs": [
        {
          "output_type": "stream",
          "name": "stdout",
          "text": [
            "3.3333333333333335\n"
          ]
        }
      ]
    },
    {
      "cell_type": "markdown",
      "source": [
        "Some of the objectives this notebook covered are:\n",
        "\n",
        "- Make an oredered list of some popular langueges on data science\n",
        "-  Create a table of some development enviroment open source tools on data science\n",
        "- List some arithmetic expressions in python as well as two examples on code"
      ],
      "metadata": {
        "id": "NXIHctLiKqmP"
      }
    },
    {
      "cell_type": "markdown",
      "source": [
        "## Author: Daniel_P"
      ],
      "metadata": {
        "id": "cVNpX525LflJ"
      }
    }
  ]
}